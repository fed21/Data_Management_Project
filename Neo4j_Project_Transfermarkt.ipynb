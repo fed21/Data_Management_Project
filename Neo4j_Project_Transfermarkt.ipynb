{
  "nbformat": 4,
  "nbformat_minor": 0,
  "metadata": {
    "colab": {
      "name": "Neo4j Project: Transfermarkt.ipynb",
      "provenance": [],
      "collapsed_sections": []
    },
    "kernelspec": {
      "name": "python3",
      "display_name": "Python 3"
    },
    "language_info": {
      "name": "python"
    }
  },
  "cells": [
    {
      "cell_type": "markdown",
      "metadata": {
        "id": "qZ2E5MKFBRBj"
      },
      "source": [
        "#Transfermarkt: Neo4j graph and Cipher queries.\n",
        "Project for Data Management course at Sapienza University of Rome.<br>\n",
        "Neo4j graphs application to a Transfermarkt dataset.<br>\n",
        "Candidate: Carmignani Federico 1845479\n",
        "\n"
      ]
    },
    {
      "cell_type": "markdown",
      "source": [
        "Neo4j installation in Python."
      ],
      "metadata": {
        "id": "CaBFhkGNuA3f"
      }
    },
    {
      "cell_type": "code",
      "metadata": {
        "colab": {
          "base_uri": "https://localhost:8080/"
        },
        "id": "M03cnWBMWgLD",
        "outputId": "51157db7-0ed3-47ec-86fd-c7d3f870436b"
      },
      "source": [
        "!pip3 install neo4j"
      ],
      "execution_count": 30,
      "outputs": [
        {
          "output_type": "stream",
          "name": "stdout",
          "text": [
            "Looking in indexes: https://pypi.org/simple, https://us-python.pkg.dev/colab-wheels/public/simple/\n",
            "Requirement already satisfied: neo4j in /usr/local/lib/python3.7/dist-packages (4.4.4)\n",
            "Requirement already satisfied: pytz in /usr/local/lib/python3.7/dist-packages (from neo4j) (2022.1)\n"
          ]
        }
      ]
    },
    {
      "cell_type": "markdown",
      "source": [
        "Import of Graph databases driver and Pandas to manage data structures."
      ],
      "metadata": {
        "id": "kPhCnDNKuNbi"
      }
    },
    {
      "cell_type": "code",
      "metadata": {
        "id": "MlDC4hKSWk5W"
      },
      "source": [
        "from neo4j import GraphDatabase\n",
        "import pandas as pd"
      ],
      "execution_count": 31,
      "outputs": []
    },
    {
      "cell_type": "code",
      "metadata": {
        "id": "Nz9ICYsKWwgD"
      },
      "source": [
        "class Neo4jConnection:\n",
        "    \n",
        "    def __init__(self, uri, user, pwd):\n",
        "        \n",
        "        self.__uri = uri\n",
        "        self.__user = user\n",
        "        self.__pwd = pwd\n",
        "        self.__driver = None\n",
        "        \n",
        "        try:\n",
        "            self.__driver = GraphDatabase.driver(self.__uri, auth=(self.__user, self.__pwd))\n",
        "        except Exception as e:\n",
        "            print(\"Failed to create the driver:\", e)\n",
        "        \n",
        "    def close(self):\n",
        "        \n",
        "        if self.__driver is not None:\n",
        "            self.__driver.close()\n",
        "        \n",
        "    def query(self, query, parameters=None, db=None):\n",
        "        \n",
        "        assert self.__driver is not None, \"Driver not initialized!\"\n",
        "        session = None\n",
        "        response = None\n",
        "        \n",
        "        try: \n",
        "            session = self.__driver.session(database=db) if db is not None else self.__driver.session() \n",
        "            response = list(session.run(query, parameters))\n",
        "        except Exception as e:\n",
        "            print(\"Query failed:\", e)\n",
        "        finally: \n",
        "            if session is not None:\n",
        "                session.close()\n",
        "        return response"
      ],
      "execution_count": 32,
      "outputs": []
    },
    {
      "cell_type": "markdown",
      "source": [
        "Connection creation with Neo4j."
      ],
      "metadata": {
        "id": "0g_KH1-Ru3eB"
      }
    },
    {
      "cell_type": "code",
      "metadata": {
        "id": "6Se7G_vPW2tA"
      },
      "source": [
        "uri = 'bolt://34.201.118.38:7687'\n",
        "user = 'neo4j'\n",
        "pwd = 'gasket-advertisement-fur'\n",
        "\n",
        "conn = Neo4jConnection(uri=uri, user=user, pwd=pwd)"
      ],
      "execution_count": 33,
      "outputs": []
    },
    {
      "cell_type": "markdown",
      "metadata": {
        "id": "q2FvMiCYXICj"
      },
      "source": [
        "Let's see the first 10 rows of the CSV file."
      ]
    },
    {
      "cell_type": "code",
      "metadata": {
        "colab": {
          "base_uri": "https://localhost:8080/"
        },
        "id": "XD4VR8gdXDm1",
        "outputId": "8b8406c4-074e-4850-a873-a1f4a07bd678"
      },
      "source": [
        "query = \"\"\"WITH 'https://s3-eu-west-1.amazonaws.com/football-transfers.neo4j.com/transfers-all.csv' AS url\n",
        "LOAD CSV WITH HEADERS FROM url AS row\n",
        "RETURN row\n",
        "LIMIT 10\"\"\"\n",
        "\n",
        "result = conn.query(query)\n",
        "print(result)\n",
        "#this is how to enter a record type returned by the queries\n",
        "print(\"An example of a row: \",result[0][0]['playerUri'])\n"
      ],
      "execution_count": 34,
      "outputs": [
        {
          "output_type": "stream",
          "name": "stdout",
          "text": [
            "[<Record row={'playerUri': '/douglas-costa/profil/spieler/75615', 'playerImage': 'https://tmssl.akamaized.net//images/portrait/medium/75615-1471439432.JPG?lm=1471439625', 'transferUri': '/jumplist/transfers/spieler/75615/transfer_id/376095', 'playerName': 'Douglas Costa', 'playerNationality': 'Brazil', 'sellerClubCountry': 'Brazil', 'sellerClubUri': '/gremio-foot-ball-porto-alegrense/startseite/verein/210', 'buyerClubUri': '/shakhtar-donetsk/startseite/verein/660', 'buyerClubCountry': 'Ukraine', 'buyerClubName': 'Shakhtar D.', 'playerAge': '19', 'sellerClubName': 'Grêmio', 'transferFee': '£7.20m', 'season': '2009/2010', 'playerPosition': 'Left Wing', 'timestamp': '1262304000'}>, <Record row={'playerUri': '/florent-sinama-pongolle/profil/spieler/4216', 'playerImage': 'https://tmssl.akamaized.net//images/portrait/medium/4216-1448635837.jpg?lm=1448635855', 'transferUri': '/jumplist/transfers/spieler/4216/transfer_id/372427', 'playerName': 'Florent Sinama-Pongolle', 'playerNationality': 'France', 'sellerClubCountry': 'Spain', 'sellerClubUri': '/atletico-madrid/startseite/verein/13', 'buyerClubUri': '/sporting-lissabon/startseite/verein/336', 'buyerClubCountry': 'Portugal', 'buyerClubName': 'Sporting CP', 'playerAge': '25', 'sellerClubName': 'Atlético Madrid', 'transferFee': '£5.85m', 'season': '2009/2010', 'playerPosition': 'Centre-Forward', 'timestamp': '1262304000'}>, <Record row={'playerUri': '/keisuke-honda/profil/spieler/66521', 'playerImage': 'https://tmssl.akamaized.net//images/portrait/medium/66521-1455538386.jpg?lm=1455538398', 'transferUri': '/jumplist/transfers/spieler/66521/transfer_id/373312', 'playerName': 'Keisuke Honda', 'playerNationality': 'Japan', 'sellerClubCountry': 'Netherlands', 'sellerClubUri': '/vvv-venlo/startseite/verein/1426', 'buyerClubUri': '/zska-moskau/startseite/verein/2410', 'buyerClubCountry': 'Russia', 'buyerClubName': 'CSKA Moscow', 'playerAge': '23', 'sellerClubName': 'VVV-Venlo', 'transferFee': '£5.40m', 'season': '2009/2010', 'playerPosition': 'Right Wing', 'timestamp': '1262304000'}>, <Record row={'playerUri': '/alex-teixeira/profil/spieler/66515', 'playerImage': 'https://tmssl.akamaized.net//images/portrait/medium/66515-1454413290.jpg?lm=1454413353', 'transferUri': '/jumplist/transfers/spieler/66515/transfer_id/368828', 'playerName': 'Alex Teixeira', 'playerNationality': 'Brazil', 'sellerClubCountry': 'Brazil', 'sellerClubUri': '/vasco-da-gama-rio-de-janeiro/startseite/verein/978', 'buyerClubUri': '/shakhtar-donetsk/startseite/verein/660', 'buyerClubCountry': 'Ukraine', 'buyerClubName': 'Shakhtar D.', 'playerAge': '19', 'sellerClubName': 'Vasco da Gama', 'transferFee': '£5.40m', 'season': '2009/2010', 'playerPosition': 'Attacking Midfield', 'timestamp': '1262304000'}>, <Record row={'playerUri': '/younes-kaboul/profil/spieler/27114', 'playerImage': 'https://tmssl.akamaized.net//bilder/spielerfotos/s_27114_148_2012_1.jpg?lm=0', 'transferUri': '/jumplist/transfers/spieler/27114/transfer_id/385673', 'playerName': 'Younès Kaboul', 'playerNationality': 'France', 'sellerClubCountry': 'England', 'sellerClubUri': '/fc-portsmouth/startseite/verein/1020', 'buyerClubUri': '/tottenham-hotspur/startseite/verein/148', 'buyerClubCountry': 'England', 'buyerClubName': 'Spurs', 'playerAge': '23', 'sellerClubName': 'Portsmouth FC', 'transferFee': '£5.31m', 'season': '2009/2010', 'playerPosition': 'Centre-Back', 'timestamp': '1262304000'}>, <Record row={'playerUri': '/alessandro-budel/profil/spieler/25314', 'playerImage': 'https://tmssl.akamaized.net//images/portrait/medium/25314-1470211564.jpg?lm=1470211585', 'transferUri': '/jumplist/transfers/spieler/25314/transfer_id/380060', 'playerName': 'Alessandro Budel', 'playerNationality': 'Italy', 'sellerClubCountry': 'Italy', 'sellerClubUri': '/fc-parma/startseite/verein/130', 'buyerClubUri': '/brescia-calcio/startseite/verein/19', 'buyerClubCountry': 'Italy', 'buyerClubName': 'Brescia', 'playerAge': '28', 'sellerClubName': 'Parma', 'transferFee': '£4.50m', 'season': '2009/2010', 'playerPosition': 'Defensive Midfield', 'timestamp': '1262304000'}>, <Record row={'playerUri': '/daniele-vantaggiato/profil/spieler/22155', 'playerImage': 'https://tmssl.akamaized.net//images/portrait/medium/22155-1488543409.jpg?lm=1488543418', 'transferUri': '/jumplist/transfers/spieler/22155/transfer_id/380226', 'playerName': 'Daniele Vantaggiato', 'playerNationality': 'Italy', 'sellerClubCountry': 'Italy', 'sellerClubUri': '/fc-parma/startseite/verein/130', 'buyerClubUri': '/ac-padova/startseite/verein/3037', 'buyerClubCountry': 'Italy', 'buyerClubName': 'Padova', 'playerAge': '25', 'sellerClubName': 'Parma', 'transferFee': '£4.50m', 'season': '2009/2010', 'playerPosition': 'Centre-Forward', 'timestamp': '1262304000'}>, <Record row={'playerUri': '/rever/profil/spieler/72489', 'playerImage': 'https://tmssl.akamaized.net//images/portrait/medium/72489-1447749786.jpg?lm=1447749805', 'transferUri': '/jumplist/transfers/spieler/72489/transfer_id/384674', 'playerName': 'Réver', 'playerNationality': 'Brazil', 'sellerClubCountry': 'Brazil', 'sellerClubUri': '/gremio-foot-ball-porto-alegrense/startseite/verein/210', 'buyerClubUri': '/vfl-wolfsburg/startseite/verein/82', 'buyerClubCountry': 'Germany', 'buyerClubName': 'VfL Wolfsburg', 'playerAge': '24', 'sellerClubName': 'Grêmio', 'transferFee': '£4.50m', 'season': '2009/2010', 'playerPosition': 'Centre-Back', 'timestamp': '1262304000'}>, <Record row={'playerUri': '/aleksandr-samedov/profil/spieler/15076', 'playerImage': 'https://tmssl.akamaized.net//images/portrait/medium/15076-1464945350.jpg?lm=1464945365', 'transferUri': '/jumplist/transfers/spieler/15076/transfer_id/365510', 'playerName': 'Aleksandr Samedov', 'playerNationality': 'Russia', 'sellerClubCountry': 'Russia', 'sellerClubUri': '/fk-moskau/startseite/verein/5268', 'buyerClubUri': '/dinamo-moskau/startseite/verein/121', 'buyerClubCountry': 'Russia', 'buyerClubName': 'Dinamo Moscow', 'playerAge': '25', 'sellerClubName': 'FK Moskau', 'transferFee': '£4.05m', 'season': '2009/2010', 'playerPosition': 'Right Midfield', 'timestamp': '1262304000'}>, <Record row={'playerUri': '/eder-luis/profil/spieler/53078', 'playerImage': 'https://tmssl.akamaized.net//bilder/spielerfotos/s_53078_978_2012_2.jpg?lm=0', 'transferUri': '/jumplist/transfers/spieler/53078/transfer_id/372793', 'playerName': 'Éder Luís', 'playerNationality': 'Brazil', 'sellerClubCountry': 'Brazil', 'sellerClubUri': '/atletico-mineiro/startseite/verein/330', 'buyerClubUri': '/benfica-lissabon/startseite/verein/294', 'buyerClubCountry': 'Portugal', 'buyerClubName': 'Benfica', 'playerAge': '24', 'sellerClubName': 'Atlético-MG', 'transferFee': '£3.60m', 'season': '2009/2010', 'playerPosition': 'Right Wing', 'timestamp': '1262304000'}>]\n",
            "An example of a row:  /douglas-costa/profil/spieler/75615\n"
          ]
        }
      ]
    },
    {
      "cell_type": "markdown",
      "source": [
        "Constraints: to avoid duplicates."
      ],
      "metadata": {
        "id": "wdJnm4brRbLK"
      }
    },
    {
      "cell_type": "code",
      "source": [
        "query = \"\"\"CREATE CONSTRAINT ON (player:Player)\n",
        "ASSERT player.id IS UNIQUE;\"\"\"\n",
        "result = conn.query(query)"
      ],
      "metadata": {
        "id": "uVPSCvXnKQ3o",
        "colab": {
          "base_uri": "https://localhost:8080/"
        },
        "outputId": "7f9c66ee-0095-49b7-fa2c-297787bbe358"
      },
      "execution_count": 35,
      "outputs": [
        {
          "output_type": "stream",
          "name": "stdout",
          "text": [
            "Query failed: {code: Neo.ClientError.Schema.EquivalentSchemaRuleAlreadyExists} {message: An equivalent constraint already exists, 'Constraint( id=4, name='constraint_ecab7081', type='UNIQUENESS', schema=(:Player {id}), ownedIndex=3 )'.}\n"
          ]
        }
      ]
    },
    {
      "cell_type": "code",
      "source": [
        "query = \"\"\"CREATE CONSTRAINT ON (club:Club)\n",
        "ASSERT club.id IS UNIQUE;\"\"\"\n",
        "result = conn.query(query)"
      ],
      "metadata": {
        "id": "flPDOY6QSNMj",
        "colab": {
          "base_uri": "https://localhost:8080/"
        },
        "outputId": "ef5f0533-baa4-4aa0-86f1-6b328d85d8f4"
      },
      "execution_count": 36,
      "outputs": [
        {
          "output_type": "stream",
          "name": "stdout",
          "text": [
            "Query failed: {code: Neo.ClientError.Schema.EquivalentSchemaRuleAlreadyExists} {message: An equivalent constraint already exists, 'Constraint( id=6, name='constraint_4a408142', type='UNIQUENESS', schema=(:Club {id}), ownedIndex=5 )'.}\n"
          ]
        }
      ]
    },
    {
      "cell_type": "code",
      "source": [
        "query = \"\"\"CREATE CONSTRAINT ON (transfer:Transfer)\n",
        "ASSERT transfer.id IS UNIQUE;\"\"\"\n",
        "result = conn.query(query)"
      ],
      "metadata": {
        "id": "SesyE5TNTdEv",
        "colab": {
          "base_uri": "https://localhost:8080/"
        },
        "outputId": "d80507aa-8d3b-4a25-9afe-471f0d3f031d"
      },
      "execution_count": 37,
      "outputs": [
        {
          "output_type": "stream",
          "name": "stdout",
          "text": [
            "Query failed: {code: Neo.ClientError.Schema.EquivalentSchemaRuleAlreadyExists} {message: An equivalent constraint already exists, 'Constraint( id=10, name='constraint_155ea408', type='UNIQUENESS', schema=(:Transfer {id}), ownedIndex=9 )'.}\n"
          ]
        }
      ]
    },
    {
      "cell_type": "code",
      "source": [
        "query = \"\"\"CREATE CONSTRAINT ON (country:Country)\n",
        "ASSERT country.name IS UNIQUE;\"\"\"\n",
        "result = conn.query(query)"
      ],
      "metadata": {
        "id": "VmXdG6XFTpt4",
        "colab": {
          "base_uri": "https://localhost:8080/"
        },
        "outputId": "2e8d1d4c-6da7-45c7-be34-1eb2a5a0668f"
      },
      "execution_count": 38,
      "outputs": [
        {
          "output_type": "stream",
          "name": "stdout",
          "text": [
            "Query failed: {code: Neo.ClientError.Schema.EquivalentSchemaRuleAlreadyExists} {message: An equivalent constraint already exists, 'Constraint( id=8, name='constraint_637a970c', type='UNIQUENESS', schema=(:Country {name}), ownedIndex=7 )'.}\n"
          ]
        }
      ]
    },
    {
      "cell_type": "code",
      "source": [
        "query = \"\"\"CALL db.constraints()\"\"\"\n",
        "result = conn.query(query)\n",
        "print(len(result))"
      ],
      "metadata": {
        "colab": {
          "base_uri": "https://localhost:8080/"
        },
        "id": "UXtEkk-IT1nM",
        "outputId": "f93371fa-02ba-4ac9-f78c-3405cd713ede"
      },
      "execution_count": 39,
      "outputs": [
        {
          "output_type": "stream",
          "name": "stdout",
          "text": [
            "4\n"
          ]
        }
      ]
    },
    {
      "cell_type": "markdown",
      "source": [
        "Import players."
      ],
      "metadata": {
        "id": "9J0Dn4gfW9b0"
      }
    },
    {
      "cell_type": "code",
      "source": [
        "query = \"\"\"USING PERIODIC COMMIT\n",
        "LOAD CSV WITH HEADERS FROM 'https://s3-eu-west-1.amazonaws.com/football-transfers.neo4j.com/transfers-all.csv' AS row\n",
        "MERGE (player:Player {id: row.playerUri})\n",
        "ON CREATE SET player.name =  row.playerName, player.position = row.playerPosition\"\"\"\n",
        "result = conn.query(query)"
      ],
      "metadata": {
        "id": "2XoPG8MGW_kQ"
      },
      "execution_count": 40,
      "outputs": []
    },
    {
      "cell_type": "markdown",
      "metadata": {
        "id": "L2wtHClU9GLW"
      },
      "source": [
        "Take the players."
      ]
    },
    {
      "cell_type": "code",
      "metadata": {
        "id": "7euQugbjfsre",
        "colab": {
          "base_uri": "https://localhost:8080/"
        },
        "outputId": "fa9b85c3-d473-4ed7-ff2e-d80456419e57"
      },
      "source": [
        "query = \"\"\"MATCH (player:Player)\n",
        "RETURN player\n",
        "LIMIT 25\"\"\"\n",
        "\n",
        "result = conn.query(query)\n",
        "#print(result)\n",
        "for i in range(0,25):\n",
        "  print((result[i][0]).id, result[i][0]['name']) #for 'id'\n",
        "   #and for 'name' in properties dictionary\n",
        "  "
      ],
      "execution_count": 41,
      "outputs": [
        {
          "output_type": "stream",
          "name": "stdout",
          "text": [
            "0 Douglas Costa\n",
            "1 Florent Sinama-Pongolle\n",
            "2 Keisuke Honda\n",
            "3 Alex Teixeira\n",
            "4 Younès Kaboul\n",
            "5 Alessandro Budel\n",
            "6 Daniele Vantaggiato\n",
            "7 Réver\n",
            "8 Aleksandr Samedov\n",
            "9 Éder Luís\n",
            "10 Éverton\n",
            "11 Christian Giménez\n",
            "12 Mario Bolatti\n",
            "13 Jonathan Pereira\n",
            "14 Míchel\n",
            "15 João Pereira\n",
            "16 Felipe\n",
            "17 Rúben Micael\n",
            "18 Jackson Martínez\n",
            "19 Airton\n",
            "20 Dario Dainelli\n",
            "21 Álex Geijo\n",
            "22 Alexandru Epureanu\n",
            "23 Alan Kardec\n",
            "24 Sung-Yong Ki\n"
          ]
        }
      ]
    },
    {
      "cell_type": "markdown",
      "source": [
        "Create countries.\n",
        "\n"
      ],
      "metadata": {
        "id": "fbRA0K8dh4ij"
      }
    },
    {
      "cell_type": "code",
      "source": [
        "query = \"\"\"WITH 'https://s3-eu-west-1.amazonaws.com/football-transfers.neo4j.com/transfers-all.csv' AS url\n",
        "LOAD CSV WITH HEADERS FROM url AS row\n",
        "WITH row WHERE row.playerNationality <> ''\n",
        "WITH DISTINCT row.playerNationality AS nationality\n",
        "MERGE (country:Country {name: nationality })\"\"\"\n",
        "\n",
        "result = conn.query(query)\n"
      ],
      "metadata": {
        "id": "7Kpb8jJthzP7"
      },
      "execution_count": 42,
      "outputs": []
    },
    {
      "cell_type": "markdown",
      "source": [
        "Create relationships \"FROM\": a player comes from a specific country."
      ],
      "metadata": {
        "id": "B8CwJIHe0F7p"
      }
    },
    {
      "cell_type": "code",
      "source": [
        "query = \"\"\"USING PERIODIC COMMIT\n",
        "LOAD CSV WITH HEADERS FROM 'https://s3-eu-west-1.amazonaws.com/football-transfers.neo4j.com/transfers-all.csv' AS row\n",
        "WITH row WHERE row.playerNationality <> ''\n",
        "MATCH (player:Player {id: row.playerUri})\n",
        "MATCH (country:Country {name: row.playerNationality })\n",
        "MERGE (player)-[:FROM]->(country)\"\"\"\n",
        "\n",
        "result = conn.query(query)"
      ],
      "metadata": {
        "id": "DDRN9r86jroL"
      },
      "execution_count": 43,
      "outputs": []
    },
    {
      "cell_type": "markdown",
      "source": [
        "Importing clubs: buying and selling clubs and also relationships \"IN\" with countries.\n",
        "\n",
        "\n",
        "\n"
      ],
      "metadata": {
        "id": "A9bGzehax-GV"
      }
    },
    {
      "cell_type": "code",
      "source": [
        "query = \"\"\"WITH 'https://s3-eu-west-1.amazonaws.com/football-transfers.neo4j.com/transfers-all.csv' AS url\n",
        "LOAD CSV WITH HEADERS FROM url AS row\n",
        "UNWIND [\n",
        "  {uri: row.sellerClubUri, name: row.sellerClubName, country: row.sellerClubCountry},\n",
        "  {uri: row.buyerClubUri,  name: row.buyerClubName,  country: row.buyerClubCountry}\n",
        "] AS club\n",
        "WITH club WHERE club.uri <> ''\n",
        "WITH DISTINCT club\n",
        "MERGE (c:Club {id: club.uri})\n",
        "ON CREATE SET c.name = club.name\n",
        "MERGE (country:Country {name: club.country })\n",
        "MERGE (c)-[:IN]->(country)\"\"\"\n",
        "\n",
        "result = conn.query(query)"
      ],
      "metadata": {
        "id": "kEliBX25yCiv"
      },
      "execution_count": 44,
      "outputs": []
    },
    {
      "cell_type": "markdown",
      "source": [
        "Importing transfers: each transfer relationship is linked to a player, a destination club and the former club."
      ],
      "metadata": {
        "id": "qXTUlS7r00yU"
      }
    },
    {
      "cell_type": "code",
      "source": [
        "query = \"\"\"USING PERIODIC COMMIT\n",
        "LOAD CSV WITH HEADERS FROM 'https://s3-eu-west-1.amazonaws.com/football-transfers.neo4j.com/transfers-all.csv' AS row\n",
        "MATCH (player:Player {id: row.playerUri})\n",
        "MATCH (source:Club {id: row.sellerClubUri})\n",
        "MATCH (destination:Club {id: row.buyerClubUri})\n",
        "MERGE (t:Transfer {id: row.transferUri})\n",
        "ON CREATE SET t.season = row.season,\n",
        "              t.fee = row.transferFee,\n",
        "              t.timestamp = toInteger(row.timestamp)\n",
        "MERGE (t)-[ofPlayer:OF_PLAYER]->(player) SET ofPlayer.age = row.playerAge\n",
        "MERGE (t)-[:FROM_CLUB]->(source)\n",
        "MERGE (t)-[:TO_CLUB]->(destination);\"\"\"\n",
        "\n",
        "result = conn.query(query)"
      ],
      "metadata": {
        "colab": {
          "base_uri": "https://localhost:8080/"
        },
        "id": "xUFCtTlQ05hp",
        "outputId": "c067b20a-b94b-4138-9ecd-56422b8078ed"
      },
      "execution_count": 45,
      "outputs": [
        {
          "output_type": "stream",
          "name": "stdout",
          "text": [
            "Query failed: {code: Neo.ClientError.Transaction.TransactionTimedOut} {message: The transaction has been terminated. Retry your operation in a new transaction, and you should see a successful result. The transaction has not completed within the specified timeout (dbms.transaction.timeout). You may want to retry with a longer timeout. }\n"
          ]
        }
      ]
    },
    {
      "cell_type": "markdown",
      "source": [
        "Many strange values are inserted as fees so it is not possible to work with them, therefore now **data cleaning** is necessary."
      ],
      "metadata": {
        "id": "YfFveS1L4pPw"
      }
    },
    {
      "cell_type": "code",
      "source": [
        "query = \"\"\"MATCH (transfer:Transfer)\n",
        "RETURN transfer.fee, COUNT(*) AS occurrences\n",
        "ORDER BY occurrences DESC\n",
        "LIMIT 100\"\"\"\n",
        "\n",
        "result = conn.query(query)\n",
        "for i in range(0,100):\n",
        "  print(result[i][0]) "
      ],
      "metadata": {
        "colab": {
          "base_uri": "https://localhost:8080/"
        },
        "id": "Nl4WqrTC3CwE",
        "outputId": "66633903-0a70-4107-963b-ca41719bcfb5"
      },
      "execution_count": 46,
      "outputs": [
        {
          "output_type": "stream",
          "name": "stdout",
          "text": [
            "Free transfer\n",
            "?\n",
            "Loan\n",
            "-\n",
            "gratuito\n",
            "Swap deal\n",
            "£450k\n",
            "£90k\n",
            "£900k\n",
            "draft\n",
            "£270k\n",
            "£180k\n",
            "£1.35m\n",
            "£1.80m\n",
            "£225k\n",
            "£360k\n",
            "£45k\n",
            "£135k\n",
            "£2.25m\n",
            "£2.70m\n",
            "£540k\n",
            "None\n",
            "£720k\n",
            "£3.60m\n",
            "£315k\n",
            "£4.50m\n",
            "Loan fee:£450k\n",
            "£630k\n",
            "£3.15m\n",
            "£1.08m\n",
            "Loan fee:£180k\n",
            "£675k\n",
            "Loan fee:£90k\n",
            "£23k\n",
            "Loan fee:£45k\n",
            "Loan fee:£270k\n",
            "£810k\n",
            "£68k\n",
            "£5.40m\n",
            "£9k\n",
            "£108k\n",
            "£405k\n",
            "£1.17m\n",
            "ablosefrei\n",
            "£1.62m\n",
            "£54k\n",
            "£7.20m\n",
            "£27k\n",
            "£4.05m\n",
            "£990k\n",
            "Loan fee:£900k\n",
            "£18k\n",
            "£72k\n",
            "£6.30m\n",
            "£1.44m\n",
            "£113k\n",
            "£1.98m\n",
            "£36k\n",
            "Loan fee:£225k\n",
            "£2.52m\n",
            "£1.53m\n",
            "£9.00m\n",
            "Loan fee:£135k\n",
            "Loan fee:£360k\n",
            "£32k\n",
            "£14k\n",
            "£1.13m\n",
            "£1.26m\n",
            "£5k\n",
            "£6.75m\n",
            "transfervrij\n",
            "£63k\n",
            "£81k\n",
            "£585k\n",
            "£2.07m\n",
            "£4.95m\n",
            "£1.58m\n",
            "£158k\n",
            "£2.16m\n",
            "£203k\n",
            "£8.10m\n",
            "£10.80m\n",
            "Bez odstępnego\n",
            "£9.90m\n",
            "£198k\n",
            "Loan fee:£1.35m\n",
            "£162k\n",
            "£13.50m\n",
            "Bonservissiz\n",
            "Loan fee:£23k\n",
            "£59k\n",
            "£99k\n",
            "£3.42m\n",
            "Loan fee:£540k\n",
            "£2.97m\n",
            "£324k\n",
            "£5.85m\n",
            "£1.71m\n",
            "£41k\n",
            "£3.38m\n"
          ]
        }
      ]
    },
    {
      "cell_type": "markdown",
      "source": [
        "Now clean up (ETL data cleaning).\n"
      ],
      "metadata": {
        "id": "6SkcwFTW2Ivu"
      }
    },
    {
      "cell_type": "code",
      "source": [
        "query = \"\"\"MATCH (t:Transfer)\n",
        "WHERE t.fee contains \"?\" or t.fee contains \"-\"\n",
        "RETURN t.fee, count(*)\"\"\"\n",
        "\n",
        "result = conn.query(query)\n",
        "for i in result:\n",
        "  print(i[0],i[1]) "
      ],
      "metadata": {
        "colab": {
          "base_uri": "https://localhost:8080/"
        },
        "id": "KItCEsZ32fHj",
        "outputId": "f9dd4f7d-1655-4f0a-aaad-6ab6c71e3cd5"
      },
      "execution_count": 47,
      "outputs": [
        {
          "output_type": "stream",
          "name": "stdout",
          "text": [
            "? 47798\n",
            "- 26117\n",
            "--- 1\n",
            "?  4\n",
            " ? 2\n",
            "-? 1\n",
            "?ablösefrei 1\n",
            "free? 1\n"
          ]
        }
      ]
    },
    {
      "cell_type": "markdown",
      "source": [
        "Remove the ones containing '?' or \"-\" but keeping them as another type."
      ],
      "metadata": {
        "id": "rnpGcRp09bF5"
      }
    },
    {
      "cell_type": "code",
      "source": [
        "query = \"\"\"MATCH (t:Transfer)\n",
        "WHERE t.fee CONTAINS \"?\" or t.fee CONTAINS \"-\"\n",
        "REMOVE t:Transfer\n",
        "SET t:TransferWithoutFee\"\"\"\n",
        "result = conn.query(query)\n"
      ],
      "metadata": {
        "id": "U0IVP4VG7AMO"
      },
      "execution_count": 48,
      "outputs": []
    },
    {
      "cell_type": "markdown",
      "source": [
        "Add a one more type to the transfers: the loan."
      ],
      "metadata": {
        "id": "TfAZTn7g9sik"
      }
    },
    {
      "cell_type": "code",
      "source": [
        "query = \"\"\"MATCH (t:Transfer)\n",
        "WHERE t.fee STARTS WITH 'Loan'\n",
        "SET t:Loan\"\"\"\n",
        "\n",
        "result = conn.query(query)"
      ],
      "metadata": {
        "id": "K4sontvJ83hR"
      },
      "execution_count": 49,
      "outputs": []
    },
    {
      "cell_type": "markdown",
      "source": [
        "Transfer fees as numeric values as a new property called \"numericfee\". The use of APOC functions https://neo4j.com/developer/neo4j-apoc/ for multiplication is because we are working with strings.\n",
        "\n"
      ],
      "metadata": {
        "id": "E6hiRqIQAvZc"
      }
    },
    {
      "cell_type": "code",
      "source": [
        "query = \"\"\"MATCH (t:Transfer)\n",
        "WITH t, replace(replace(replace(replace(t.fee, \"k\", \"\"), \"m\", \"\"), \"Loan fee:\", \"\"), \"£\", \"\") AS rawNumeric\n",
        "WITH t,\n",
        "CASE\n",
        " WHEN t.fee ENDS WITH \"k\" THEN toFloat(apoc.number.exact.mul(trim(rawNumeric),\"1000\"))\n",
        " WHEN t.fee ENDS WITH \"m\" THEN toFloat(apoc.number.exact.mul(trim(rawNumeric),\"1000000\"))\n",
        " WHEN trim(t.fee) IN [\"Free transfer\", \"ablösefrei \", \"gratuito\", \"free\", \"free transfer\", \"Ablösefrei\", \"transfervrij\", \"ablöserei\", \"Free Transfer\", \"Libre\", \"gratutito\", \"ablsöefrei\", \"ablösefrei\", \"ablösefei\", \"abösefrei\", \"Loan\", \"draft\", \"Swap deal\", \"trade\", \"ablösefrei\", \"ablösefreei\", \"Free\", \"ablosefrei\", \"Draft\", \"Trade\", \"Libre para traspaso\", \"bez odstępnego\", \"ablossefrei\", \"Bez odstępnego\", \"Gratuito\", \"ablödefrei\", \"Bonservissiz\", \"ablösfrei\", \"ablõsefrei\", \"ablösefre\", \"custo zero\", \"ablösefrei!\", \"ablösefreo\", \"svincolato\", \"Ablösfrei\", \"livre\", \"libre\", \"Leihe\", \"abolsfrei\", \"ablösefrai\", \"ablösefreil\", \"abllösefrei\", \"abölsefrei\", \"ablöserfrei\", \"abklösefrei\", \"ablöaefrei\", \"Ablosefrei\", \"Nessuno\", \"ablösesfrei\", \"Free Tranfer\", \"abblösefrei\", \"Spielertausch\", \"ablösebrei\", \"abslösefrei\", \"spielertausch\", \"a\", \"ablöseferi\", \"ablöserfei\", \"Tausch\"] THEN 0\n",
        " WHEN NOT(exists(t.fee)) THEN 0\n",
        " WHEN rawNumeric = '' THEN 0\n",
        " ELSE toFloat(trim(rawNumeric))\n",
        "END AS numericFee\n",
        "SET t.numericFee = numericFee\"\"\"\n",
        "\n",
        "result = conn.query(query)"
      ],
      "metadata": {
        "id": "Oclaub3CAyPU"
      },
      "execution_count": 50,
      "outputs": []
    },
    {
      "cell_type": "markdown",
      "source": [
        "Then it is about to eliminate the transfers having no numerical value."
      ],
      "metadata": {
        "id": "vzKXbgJzBrZg"
      }
    },
    {
      "cell_type": "code",
      "source": [
        "query = \"\"\"MATCH (t:Transfer)\n",
        "WHERE not exists(t.numericFee)\n",
        "REMOVE t:Transfer\n",
        "SET t:TransferWithoutFee\"\"\"\n",
        "\n",
        "result = conn.query(query)"
      ],
      "metadata": {
        "id": "hFYoIJlcBvJM"
      },
      "execution_count": 51,
      "outputs": []
    },
    {
      "cell_type": "markdown",
      "source": [
        "QUERIES:"
      ],
      "metadata": {
        "id": "4I-uEW5yEUi-"
      }
    },
    {
      "cell_type": "markdown",
      "source": [
        "Top transfers."
      ],
      "metadata": {
        "id": "M6NQbEg9HvDa"
      }
    },
    {
      "cell_type": "code",
      "source": [
        "query = \"\"\"MATCH (transfer:Transfer)-[:OF_PLAYER]->(player),\n",
        "      (from)<-[:FROM_CLUB]-(transfer)-[:TO_CLUB]->(to)\n",
        "RETURN player.name, from.name, to.name, transfer.numericFee\n",
        "ORDER BY transfer.numericFee DESC\n",
        "LIMIT 3\"\"\"\n",
        "\n",
        "result = conn.query(query)\n",
        "for res in result:\n",
        "  print(res[0],\"from\",res[1],\"-->\",res[2],\"for\",res[3])"
      ],
      "metadata": {
        "colab": {
          "base_uri": "https://localhost:8080/"
        },
        "id": "061R2yaHEWkE",
        "outputId": "949bc629-5336-40cf-98c8-521115931a01"
      },
      "execution_count": 52,
      "outputs": [
        {
          "output_type": "stream",
          "name": "stdout",
          "text": [
            "Gareth Bale from Spurs --> Real Madrid for 90900000.0\n",
            "Neymar from Santos FC --> FC Barcelona for 79380000.0\n",
            "Luis Suárez from Liverpool --> FC Barcelona for 73550000.0\n"
          ]
        }
      ]
    },
    {
      "cell_type": "markdown",
      "source": [
        "Transfers from team."
      ],
      "metadata": {
        "id": "jei4d1L0HyvV"
      }
    },
    {
      "cell_type": "code",
      "source": [
        "query = \"\"\"MATCH (from:Club)<-[:FROM_CLUB]-(transfer:Transfer)-[:TO_CLUB]->(to:Club),\n",
        "      (transfer)-[:OF_PLAYER]->(player)\n",
        "WHERE from.name = \"AS Roma\"\n",
        "RETURN player.name, to.name, transfer.numericFee, transfer.season\n",
        "ORDER BY transfer.numericFee DESC\"\"\"\n",
        "\n",
        "result = conn.query(query)\n",
        "for res in result:\n",
        "  print(res[0],\"to\",res[1],\"for\",res[2],\"in\",res[3])"
      ],
      "metadata": {
        "colab": {
          "base_uri": "https://localhost:8080/"
        },
        "id": "bm1y93gcEv9-",
        "outputId": "10495d20-d9af-4d40-d0da-534498425f75"
      },
      "execution_count": 61,
      "outputs": [
        {
          "output_type": "stream",
          "name": "stdout",
          "text": [
            "Marquinhos to Paris SG for 28260000.0 in 2013/2014\n",
            "Érik Lamela to Spurs for 27000000.0 in 2013/2014\n",
            "Mirko Vucinic to Juventus for 13500000.0 in 2011/2012\n",
            "Fabio Borini to Liverpool for 11970000.0 in 2012/2013\n",
            "Bojan Krkic to FC Barcelona for 11700000.0 in 2013/2014\n",
            "Jérémy Ménez to Paris SG for 7200000.0 in 2011/2012\n",
            "Michael Bradley to Toronto FC for 6660000.0 in 2013/2014\n",
            "Maarten Stekelenburg to Fulham for 5040000.0 in 2013/2014\n",
            "Nicolás López to Udinese Calcio for 3600000.0 in 2013/2014\n",
            "Alessio Cerci to Fiorentina for 3600000.0 in 2010/2011\n",
            "Panagiotis Tachtsidis to Genoa for 2700000.0 in 2013/2014\n",
            "Valerio Verre to Udinese Calcio for 2250000.0 in 2013/2014\n",
            "Marco D'Alessandro to Atalanta for 1800000.0 in 2014/2015\n",
            "Gianluca Caprari to Pescara for 1580000.0 in 2013/2014\n",
            "Giammario Piscitella to Pescara for 1350000.0 in 2013/2014\n",
            "Giammario Piscitella to Genoa for 1350000.0 in 2012/2013\n",
            "Valerio Verre to Genoa for 1350000.0 in 2012/2013\n",
            "Stefano Guberti to Sampdoria for 1350000.0 in 2010/2011\n",
            "Marco Motta to Udinese Calcio for 1310000.0 in 2010/2011\n",
            "Dodô to Inter for 1080000.0 in 2014/2015\n",
            "Andrea Bertolacci to Genoa for 1080000.0 in 2012/2013\n",
            "Gianluca Caprari to Pescara for 1080000.0 in 2012/2013\n",
            "Tin Jedvaj to Bay. Leverkusen for 900000.0 in 2014/2015\n",
            "Marquinho to Ittihad for 900000.0 in 2014/2015\n",
            "Valerio Verre to Udinese Calcio for 810000.0 in 2014/2015\n",
            "Stefano Sabelli to Bari for 810000.0 in 2013/2014\n",
            "Leandro Greco to Olympiacos for 765000.0 in 2012/2013\n",
            "Marco Andreolli to Chievo Verona for 720000.0 in 2010/2011\n",
            "Marco Borriello to West Ham for 630000.0 in 2013/2014\n",
            "Matteo Politano to Pescara for 450000.0 in 2013/2014\n",
            "Adrian Stoian to Chievo Verona for 450000.0 in 2012/2013\n",
            "Marco Borriello to Juventus for 450000.0 in 2011/2012\n",
            "Federico Barba to FC Empoli for 270000.0 in 2013/2014\n",
            "Adrian Stoian to Bari for 270000.0 in 2012/2013\n",
            "Mattia Montini to Benevento for 234000.0 in 2012/2013\n",
            "Marco Borriello to Genoa for 225000.0 in 2012/2013\n",
            "Bojan Krkic to AC Milan for 225000.0 in 2012/2013\n",
            "Alessandro Florenzi to Crotone for 225000.0 in 2011/2012\n",
            "Stefano Pettinari to Crotone for 225000.0 in 2012/2013\n",
            "Federico Barba to Grosseto for 180000.0 in 2013/2014\n",
            "Alessandro Crescenzi to Pescara for 180000.0 in 2012/2013\n",
            "Stefano Okaka to Fulham for 158000.0 in 2009/2010\n",
            "Federico Ricci to Crotone for 0 in 2014/2015\n",
            "Amato Ciciretti to Pistoiese for 0 in 2014/2015\n",
            "Mattia Rosato to AS Gubbio for 0 in 2014/2015\n",
            "Junior Tallo to SC Bastia for 0 in 2014/2015\n",
            "Petar Golubović to Novara for 0 in 2013/2014\n",
            "Francis Obeng to Santarcangelo for 0 in 2013/2014\n",
            "Marquinho to Hellas Verona for 0 in 2013/2014\n",
            "Giammario Piscitella to Cittadella for 0 in 2013/2014\n",
            "Paolo Frascatore to Reggina for 0 in 2013/2014\n",
            "Nicolás Burdisso to Genoa for 0 in 2013/2014\n",
            "Federico Viviani to Latina Calcio for 0 in 2013/2014\n",
            "Tomas Svedkauskas to Pescara for 0 in 2013/2014\n",
            "Alessandro Crescenzi to Novara for 0 in 2013/2014\n",
            "Jonatan Lucca to Atlético-PR B for 0 in 2013/2014\n",
            "Wesley Yamnaine to RWDM Brussels for 0 in 2013/2014\n",
            "Junior Tallo to Ajaccio for 0 in 2013/2014\n",
            "Alessandro Crescenzi to Ajaccio for 0 in 2013/2014\n",
            "Tomas Svedkauskas to Paganese for 0 in 2013/2014\n",
            "Amara Konate to Lleida Esportiu for 0 in 2013/2014\n",
            "Sebastian Mladen to Olhanense for 0 in 2013/2014\n",
            "Filippo Scardina to US Poggibonsi for 0 in 2013/2014\n",
            "Amato Ciciretti to L'Aquila for 0 in 2013/2014\n",
            "Paolo Frascatore to Pescara for 0 in 2013/2014\n",
            "Marco D'Alessandro to AC Cesena for 0 in 2013/2014\n",
            "Gianluca Curci to Bologna for 0 in 2013/2014\n",
            "Federico Viviani to Pescara for 0 in 2013/2014\n",
            "Loïc Nego to Standard Liège for 0 in 2012/2013\n",
            "Luca Antei to Sassuolo for 0 in 2012/2013\n",
            "Alessandro Crescenzi to Novara for 0 in 2012/2013\n",
            "Filippo Scardina to US Poggibonsi for 0 in 2012/2013\n",
            "Junior Tallo to Bari for 0 in 2012/2013\n",
            "Ahmed Barusso to Genoa for 0 in 2012/2013\n",
            "Stefano Okaka to Parma for 0 in 2012/2013\n",
            "Matteo Brighi to Torino for 0 in 2012/2013\n",
            "José Ángel to Real Sociedad for 0 in 2012/2013\n",
            "Filippo Scardina to AS Gubbio for 0 in 2012/2013\n",
            "David Pizarro to Fiorentina for 0 in 2012/2013\n",
            "Aleandro Rosi to Parma for 0 in 2012/2013\n",
            "Simone Sini to Pro Vercelli for 0 in 2012/2013\n",
            "Gianluca Curci to Bologna for 0 in 2012/2013\n",
            "Juan to Internacional for 0 in 2012/2013\n",
            "Marco D'Alessandro to AC Cesena for 0 in 2012/2013\n",
            "Federico Viviani to Padova for 0 in 2012/2013\n",
            "Paolo Frascatore to Sassuolo for 0 in 2012/2013\n",
            "Sebastian Mladen to FC Viitorul for 0 in 2012/2013\n",
            "Cicinho to Sport Recife for 0 in 2012/2013\n",
            "Vitorino Antunes to Paços Ferreira for 0 in 2012/2013\n",
            "David Pizarro to Man City for 0 in 2011/2012\n",
            "Vitorino Antunes to Panionios for 0 in 2011/2012\n",
            "Ahmed Barusso to Nocerina for 0 in 2011/2012\n",
            "Simone Sini to AS Livorno for 0 in 2011/2012\n",
            "Gianluca Caprari to Pescara for 0 in 2011/2012\n",
            "Stefano Okaka to Parma for 0 in 2011/2012\n",
            "Adrian Stoian to Bari for 0 in 2011/2012\n",
            "Marco D'Alessandro to Hellas Verona for 0 in 2011/2012\n",
            "Matteo Brighi to Atalanta for 0 in 2011/2012\n",
            "Alessandro Crescenzi to Bari for 0 in 2011/2012\n",
            "Alexandru Pena to Dinamo II for 0 in 2011/2012\n",
            "Alain Mendy to RWDM Brussels for 0 in 2011/2012\n",
            "Sebastian Mladen to Chindia for 0 in 2011/2012\n",
            "Andrea Bertolacci to Lecce for 0 in 2009/2010\n",
            "João Paulo to Igea Virtus for 0 in 2009/2010\n",
            "Cicinho to São Paulo for 0 in 2009/2010\n",
            "Adrian Pit to Triestina for 0 in 2009/2010\n",
            "Artur Moraes to Braga for 0 in 2010/2011\n",
            "Marco D'Alessandro to Bari for 0 in 2010/2011\n",
            "Alessandro Crescenzi to Crotone for 0 in 2010/2011\n",
            "Adrian Pit to U Cluj for 0 in 2010/2011\n",
            "Ahmed Barusso to AS Livorno for 0 in 2010/2011\n",
            "Valerio Frasca to Villacidrese for 0 in 2010/2011\n",
            "Ricardo Faty to Aris Saloniki for 0 in 2010/2011\n",
            "Cicinho to Villarreal CF for 0 in 2010/2011\n",
            "Stefano Okaka to Bari for 0 in 2010/2011\n",
            "Marco D'Alessandro to AS Livorno for 0 in 2010/2011\n",
            "Vitorino Antunes to AS Livorno for 0 in 2010/2011\n",
            "Stefano Guberti to Torino for 0 in 2011/2012\n",
            "Filippo Scardina to Viareggio for 0 in 2011/2012\n",
            "Stefano Pettinari to Crotone for 0 in 2011/2012\n"
          ]
        }
      ]
    },
    {
      "cell_type": "markdown",
      "source": [
        "Italian transfers."
      ],
      "metadata": {
        "id": "8dZhrHnmJcEO"
      }
    },
    {
      "cell_type": "code",
      "source": [
        "query = \"\"\"MATCH (to:Club)<-[:TO_CLUB]-(t:Transfer)-[:FROM_CLUB]-(from:Club),\n",
        "      (t)-[:OF_PLAYER]->(player:Player)-[:FROM]->(country),\n",
        "      (to)-[:IN]->(country:Country)<-[:IN]-(from)\n",
        "WHERE country.name = \"Italy\"\n",
        "RETURN player.name, from.name, to.name, t.numericFee, t.season\n",
        "ORDER BY t.numericFee DESC\n",
        "LIMIT 10\"\"\"\n",
        "\n",
        "result = conn.query(query)\n",
        "for res in result:\n",
        "  print(res[0],\"from\",res[1],\"to\",res[2],\"for\",res[3],\"in\",res[4])"
      ],
      "metadata": {
        "colab": {
          "base_uri": "https://localhost:8080/"
        },
        "id": "HbD55Z_FEWc1",
        "outputId": "72dd3b5e-d123-4b17-b40f-4b22e2b581cc"
      },
      "execution_count": 54,
      "outputs": [
        {
          "output_type": "stream",
          "name": "stdout",
          "text": [
            "Andrea Ranocchia from Genoa to Inter for 16650000.0 in 2010/2011\n",
            "Giampaolo Pazzini from Sampdoria to Inter for 16200000.0 in 2010/2011\n",
            "Alessandro Matri from Cagliari Calcio to Juventus for 13950000.0 in 2011/2012\n",
            "Stephan El Shaarawy from Genoa to AC Milan for 13950000.0 in 2011/2012\n",
            "Leonardo Bonucci from Bari to Juventus for 13950000.0 in 2010/2011\n",
            "Angelo Ogbonna from Torino to Juventus for 13500000.0 in 2013/2014\n",
            "Giampaolo Pazzini from Inter to AC Milan for 11250000.0 in 2012/2013\n",
            "Manolo Gabbiadini from Juventus to Sampdoria for 10350000.0 in 2013/2014\n",
            "Mattia Destro from Genoa to AS Roma for 10350000.0 in 2012/2013\n",
            "Alessandro Matri from Juventus to AC Milan for 9900000.0 in 2013/2014\n"
          ]
        }
      ]
    },
    {
      "cell_type": "markdown",
      "source": [
        "Aggregate query for most spent players."
      ],
      "metadata": {
        "id": "4DaQuf1MLJCW"
      }
    },
    {
      "cell_type": "code",
      "source": [
        "query = \"\"\"MATCH (t:Transfer)-[:OF_PLAYER]->(p:Player)\n",
        "WITH p, sum(t.numericFee) as moneySum, COUNT(*) AS numberOfTransfers\n",
        "RETURN p.name, moneySum, numberOfTransfers\n",
        "ORDER BY moneySum desc\n",
        "LIMIT 10\"\"\"\n",
        "\n",
        "result = conn.query(query)\n",
        "for res in result:\n",
        "  print(res[0],\"with\",res[1],\"in\",res[2],\"transfer(s)\")"
      ],
      "metadata": {
        "id": "hDS8Wgm3EWQB",
        "colab": {
          "base_uri": "https://localhost:8080/"
        },
        "outputId": "6ac03240-ceb0-4844-aba3-f1d3b91b0fe3"
      },
      "execution_count": 55,
      "outputs": [
        {
          "output_type": "stream",
          "name": "stdout",
          "text": [
            "Luis Suárez with 97400000.0 in 2 transfer(s)\n",
            "Gareth Bale with 90900000.0 in 1 transfer(s)\n",
            "Neymar with 79380000.0 in 1 transfer(s)\n",
            "Falcao with 74700000.0 in 2 transfer(s)\n",
            "Edinson Cavani with 73350000.0 in 3 transfer(s)\n",
            "David Luiz with 67050000.0 in 2 transfer(s)\n",
            "Juan Mata with 64290000.0 in 2 transfer(s)\n",
            "Willian with 63450000.0 in 2 transfer(s)\n",
            "Alexis Sánchez with 61650000.0 in 2 transfer(s)\n",
            "Cesc Fàbregas with 60300000.0 in 2 transfer(s)\n"
          ]
        }
      ]
    },
    {
      "cell_type": "markdown",
      "source": [
        "Transfers linked in a temporal way through aggregation is done."
      ],
      "metadata": {
        "id": "SGr8cGLTdbnI"
      }
    },
    {
      "cell_type": "code",
      "metadata": {
        "id": "VYpPQyPS9UUG"
      },
      "source": [
        "query = \"\"\"MATCH (p:Player)<-[:OF_PLAYER]-(transfer)\n",
        "WHERE transfer.numericFee > 0\n",
        "\n",
        "WITH p, transfer\n",
        "ORDER BY p.name, transfer.timestamp\n",
        "\n",
        "WITH p, collect(transfer) AS transfers\n",
        "WHERE size(transfers) > 1\n",
        "\n",
        "UNWIND range(0, size(transfers)-2) AS idx\n",
        "WITH transfers[idx] AS t1, transfers[idx+1] AS t2\n",
        "MERGE (t1)-[:NEXT]->(t2)\"\"\"\n",
        "\n",
        "result = conn.query(query)\n"
      ],
      "execution_count": 56,
      "outputs": []
    },
    {
      "cell_type": "markdown",
      "source": [
        "A query on the max profits made by a club."
      ],
      "metadata": {
        "id": "J8FDz7-2hx9F"
      }
    },
    {
      "cell_type": "code",
      "source": [
        "query = \"\"\"MATCH (p:Player)<-[:OF_PLAYER]-(t1)-[:NEXT]->(t2),\n",
        "      (initial)<-[:FROM_CLUB]-(t1)-[:TO_CLUB]->(club1)<-[:FROM_CLUB]-(t2)-[:TO_CLUB]->(club2)\n",
        "WHERE none(t in [t1, t2] where t:Loan)\n",
        "RETURN p.name as player, club1.name AS earningClub , initial.name as buysFrom, club2.name AS sellsTo, t2.numericFee - t1.numericFee as profit\n",
        "ORDER BY profit DESC\n",
        "\"\"\"\n",
        "\n",
        "#pandas data frames\n",
        "df = pd.DataFrame([dict(_) for _ in conn.query(query)])\n",
        "df.head(10)"
      ],
      "metadata": {
        "colab": {
          "base_uri": "https://localhost:8080/",
          "height": 352
        },
        "id": "OrO8741DhxjY",
        "outputId": "57706629-4b40-410d-b90e-151d048cf0e1"
      },
      "execution_count": 67,
      "outputs": [
        {
          "output_type": "execute_result",
          "data": {
            "text/plain": [
              "            player      earningClub         buysFrom       sellsTo      profit\n",
              "0      Luis Suárez        Liverpool         AFC Ajax  FC Barcelona  49700000.0\n",
              "1   Edinson Cavani       SSC Napoli       US Palermo      Paris SG  47250000.0\n",
              "2  James Rodríguez         FC Porto      CA Banfield        Monaco  33880000.0\n",
              "3      Diego Costa  Atlético Madrid  Real Valladolid       Chelsea  33300000.0\n",
              "4      Axel Witsel          Benfica   Standard Liège    Zenit S-Pb  27900000.0\n",
              "5       Mesut Özil      Real Madrid    Werder Bremen       Arsenal  26100000.0\n",
              "6    Ander Herrera  Athletic Bilbao    Real Zaragoza       Man Utd  25650000.0\n",
              "7            Oscar    Internacional        São Paulo       Chelsea  23400000.0\n",
              "8       Marquinhos          AS Roma      Corinthians      Paris SG  23130000.0\n",
              "9       David Luiz          Chelsea          Benfica      Paris SG  22050000.0"
            ],
            "text/html": [
              "\n",
              "  <div id=\"df-dbf829f5-47df-40d2-a871-a93808bce308\">\n",
              "    <div class=\"colab-df-container\">\n",
              "      <div>\n",
              "<style scoped>\n",
              "    .dataframe tbody tr th:only-of-type {\n",
              "        vertical-align: middle;\n",
              "    }\n",
              "\n",
              "    .dataframe tbody tr th {\n",
              "        vertical-align: top;\n",
              "    }\n",
              "\n",
              "    .dataframe thead th {\n",
              "        text-align: right;\n",
              "    }\n",
              "</style>\n",
              "<table border=\"1\" class=\"dataframe\">\n",
              "  <thead>\n",
              "    <tr style=\"text-align: right;\">\n",
              "      <th></th>\n",
              "      <th>player</th>\n",
              "      <th>earningClub</th>\n",
              "      <th>buysFrom</th>\n",
              "      <th>sellsTo</th>\n",
              "      <th>profit</th>\n",
              "    </tr>\n",
              "  </thead>\n",
              "  <tbody>\n",
              "    <tr>\n",
              "      <th>0</th>\n",
              "      <td>Luis Suárez</td>\n",
              "      <td>Liverpool</td>\n",
              "      <td>AFC Ajax</td>\n",
              "      <td>FC Barcelona</td>\n",
              "      <td>49700000.0</td>\n",
              "    </tr>\n",
              "    <tr>\n",
              "      <th>1</th>\n",
              "      <td>Edinson Cavani</td>\n",
              "      <td>SSC Napoli</td>\n",
              "      <td>US Palermo</td>\n",
              "      <td>Paris SG</td>\n",
              "      <td>47250000.0</td>\n",
              "    </tr>\n",
              "    <tr>\n",
              "      <th>2</th>\n",
              "      <td>James Rodríguez</td>\n",
              "      <td>FC Porto</td>\n",
              "      <td>CA Banfield</td>\n",
              "      <td>Monaco</td>\n",
              "      <td>33880000.0</td>\n",
              "    </tr>\n",
              "    <tr>\n",
              "      <th>3</th>\n",
              "      <td>Diego Costa</td>\n",
              "      <td>Atlético Madrid</td>\n",
              "      <td>Real Valladolid</td>\n",
              "      <td>Chelsea</td>\n",
              "      <td>33300000.0</td>\n",
              "    </tr>\n",
              "    <tr>\n",
              "      <th>4</th>\n",
              "      <td>Axel Witsel</td>\n",
              "      <td>Benfica</td>\n",
              "      <td>Standard Liège</td>\n",
              "      <td>Zenit S-Pb</td>\n",
              "      <td>27900000.0</td>\n",
              "    </tr>\n",
              "    <tr>\n",
              "      <th>5</th>\n",
              "      <td>Mesut Özil</td>\n",
              "      <td>Real Madrid</td>\n",
              "      <td>Werder Bremen</td>\n",
              "      <td>Arsenal</td>\n",
              "      <td>26100000.0</td>\n",
              "    </tr>\n",
              "    <tr>\n",
              "      <th>6</th>\n",
              "      <td>Ander Herrera</td>\n",
              "      <td>Athletic Bilbao</td>\n",
              "      <td>Real Zaragoza</td>\n",
              "      <td>Man Utd</td>\n",
              "      <td>25650000.0</td>\n",
              "    </tr>\n",
              "    <tr>\n",
              "      <th>7</th>\n",
              "      <td>Oscar</td>\n",
              "      <td>Internacional</td>\n",
              "      <td>São Paulo</td>\n",
              "      <td>Chelsea</td>\n",
              "      <td>23400000.0</td>\n",
              "    </tr>\n",
              "    <tr>\n",
              "      <th>8</th>\n",
              "      <td>Marquinhos</td>\n",
              "      <td>AS Roma</td>\n",
              "      <td>Corinthians</td>\n",
              "      <td>Paris SG</td>\n",
              "      <td>23130000.0</td>\n",
              "    </tr>\n",
              "    <tr>\n",
              "      <th>9</th>\n",
              "      <td>David Luiz</td>\n",
              "      <td>Chelsea</td>\n",
              "      <td>Benfica</td>\n",
              "      <td>Paris SG</td>\n",
              "      <td>22050000.0</td>\n",
              "    </tr>\n",
              "  </tbody>\n",
              "</table>\n",
              "</div>\n",
              "      <button class=\"colab-df-convert\" onclick=\"convertToInteractive('df-dbf829f5-47df-40d2-a871-a93808bce308')\"\n",
              "              title=\"Convert this dataframe to an interactive table.\"\n",
              "              style=\"display:none;\">\n",
              "        \n",
              "  <svg xmlns=\"http://www.w3.org/2000/svg\" height=\"24px\"viewBox=\"0 0 24 24\"\n",
              "       width=\"24px\">\n",
              "    <path d=\"M0 0h24v24H0V0z\" fill=\"none\"/>\n",
              "    <path d=\"M18.56 5.44l.94 2.06.94-2.06 2.06-.94-2.06-.94-.94-2.06-.94 2.06-2.06.94zm-11 1L8.5 8.5l.94-2.06 2.06-.94-2.06-.94L8.5 2.5l-.94 2.06-2.06.94zm10 10l.94 2.06.94-2.06 2.06-.94-2.06-.94-.94-2.06-.94 2.06-2.06.94z\"/><path d=\"M17.41 7.96l-1.37-1.37c-.4-.4-.92-.59-1.43-.59-.52 0-1.04.2-1.43.59L10.3 9.45l-7.72 7.72c-.78.78-.78 2.05 0 2.83L4 21.41c.39.39.9.59 1.41.59.51 0 1.02-.2 1.41-.59l7.78-7.78 2.81-2.81c.8-.78.8-2.07 0-2.86zM5.41 20L4 18.59l7.72-7.72 1.47 1.35L5.41 20z\"/>\n",
              "  </svg>\n",
              "      </button>\n",
              "      \n",
              "  <style>\n",
              "    .colab-df-container {\n",
              "      display:flex;\n",
              "      flex-wrap:wrap;\n",
              "      gap: 12px;\n",
              "    }\n",
              "\n",
              "    .colab-df-convert {\n",
              "      background-color: #E8F0FE;\n",
              "      border: none;\n",
              "      border-radius: 50%;\n",
              "      cursor: pointer;\n",
              "      display: none;\n",
              "      fill: #1967D2;\n",
              "      height: 32px;\n",
              "      padding: 0 0 0 0;\n",
              "      width: 32px;\n",
              "    }\n",
              "\n",
              "    .colab-df-convert:hover {\n",
              "      background-color: #E2EBFA;\n",
              "      box-shadow: 0px 1px 2px rgba(60, 64, 67, 0.3), 0px 1px 3px 1px rgba(60, 64, 67, 0.15);\n",
              "      fill: #174EA6;\n",
              "    }\n",
              "\n",
              "    [theme=dark] .colab-df-convert {\n",
              "      background-color: #3B4455;\n",
              "      fill: #D2E3FC;\n",
              "    }\n",
              "\n",
              "    [theme=dark] .colab-df-convert:hover {\n",
              "      background-color: #434B5C;\n",
              "      box-shadow: 0px 1px 3px 1px rgba(0, 0, 0, 0.15);\n",
              "      filter: drop-shadow(0px 1px 2px rgba(0, 0, 0, 0.3));\n",
              "      fill: #FFFFFF;\n",
              "    }\n",
              "  </style>\n",
              "\n",
              "      <script>\n",
              "        const buttonEl =\n",
              "          document.querySelector('#df-dbf829f5-47df-40d2-a871-a93808bce308 button.colab-df-convert');\n",
              "        buttonEl.style.display =\n",
              "          google.colab.kernel.accessAllowed ? 'block' : 'none';\n",
              "\n",
              "        async function convertToInteractive(key) {\n",
              "          const element = document.querySelector('#df-dbf829f5-47df-40d2-a871-a93808bce308');\n",
              "          const dataTable =\n",
              "            await google.colab.kernel.invokeFunction('convertToInteractive',\n",
              "                                                     [key], {});\n",
              "          if (!dataTable) return;\n",
              "\n",
              "          const docLinkHtml = 'Like what you see? Visit the ' +\n",
              "            '<a target=\"_blank\" href=https://colab.research.google.com/notebooks/data_table.ipynb>data table notebook</a>'\n",
              "            + ' to learn more about interactive tables.';\n",
              "          element.innerHTML = '';\n",
              "          dataTable['output_type'] = 'display_data';\n",
              "          await google.colab.output.renderOutput(dataTable, element);\n",
              "          const docLink = document.createElement('div');\n",
              "          docLink.innerHTML = docLinkHtml;\n",
              "          element.appendChild(docLink);\n",
              "        }\n",
              "      </script>\n",
              "    </div>\n",
              "  </div>\n",
              "  "
            ]
          },
          "metadata": {},
          "execution_count": 67
        }
      ]
    },
    {
      "cell_type": "markdown",
      "metadata": {
        "id": "lMEQA_PTCBVY"
      },
      "source": [
        "Specific player query."
      ]
    },
    {
      "cell_type": "code",
      "metadata": {
        "colab": {
          "base_uri": "https://localhost:8080/",
          "height": 125
        },
        "id": "ZIT9lz3DAQ8N",
        "outputId": "28e8b72c-3276-4d8d-e9cf-54f29029679d"
      },
      "source": [
        "query = \"\"\"MATCH (p:Player {name:'Olivier Giroud'})<-[:OF_PLAYER]-(transfer)\n",
        "WHERE transfer.numericFee > 0\n",
        "RETURN transfer.fee\n",
        "LIMIT 10\"\"\"\n",
        "print(\"Olivier Giroud transfers:\")\n",
        "df = pd.DataFrame([dict(_) for _ in conn.query(query)])\n",
        "df.head(10)"
      ],
      "execution_count": 64,
      "outputs": [
        {
          "output_type": "stream",
          "name": "stdout",
          "text": [
            "Olivier Giroud transfers:\n"
          ]
        },
        {
          "output_type": "execute_result",
          "data": {
            "text/plain": [
              "  transfer.fee\n",
              "0      £10.80m\n",
              "1       £1.80m"
            ],
            "text/html": [
              "\n",
              "  <div id=\"df-714403f1-c54b-4815-a023-a8d622d5b8f5\">\n",
              "    <div class=\"colab-df-container\">\n",
              "      <div>\n",
              "<style scoped>\n",
              "    .dataframe tbody tr th:only-of-type {\n",
              "        vertical-align: middle;\n",
              "    }\n",
              "\n",
              "    .dataframe tbody tr th {\n",
              "        vertical-align: top;\n",
              "    }\n",
              "\n",
              "    .dataframe thead th {\n",
              "        text-align: right;\n",
              "    }\n",
              "</style>\n",
              "<table border=\"1\" class=\"dataframe\">\n",
              "  <thead>\n",
              "    <tr style=\"text-align: right;\">\n",
              "      <th></th>\n",
              "      <th>transfer.fee</th>\n",
              "    </tr>\n",
              "  </thead>\n",
              "  <tbody>\n",
              "    <tr>\n",
              "      <th>0</th>\n",
              "      <td>£10.80m</td>\n",
              "    </tr>\n",
              "    <tr>\n",
              "      <th>1</th>\n",
              "      <td>£1.80m</td>\n",
              "    </tr>\n",
              "  </tbody>\n",
              "</table>\n",
              "</div>\n",
              "      <button class=\"colab-df-convert\" onclick=\"convertToInteractive('df-714403f1-c54b-4815-a023-a8d622d5b8f5')\"\n",
              "              title=\"Convert this dataframe to an interactive table.\"\n",
              "              style=\"display:none;\">\n",
              "        \n",
              "  <svg xmlns=\"http://www.w3.org/2000/svg\" height=\"24px\"viewBox=\"0 0 24 24\"\n",
              "       width=\"24px\">\n",
              "    <path d=\"M0 0h24v24H0V0z\" fill=\"none\"/>\n",
              "    <path d=\"M18.56 5.44l.94 2.06.94-2.06 2.06-.94-2.06-.94-.94-2.06-.94 2.06-2.06.94zm-11 1L8.5 8.5l.94-2.06 2.06-.94-2.06-.94L8.5 2.5l-.94 2.06-2.06.94zm10 10l.94 2.06.94-2.06 2.06-.94-2.06-.94-.94-2.06-.94 2.06-2.06.94z\"/><path d=\"M17.41 7.96l-1.37-1.37c-.4-.4-.92-.59-1.43-.59-.52 0-1.04.2-1.43.59L10.3 9.45l-7.72 7.72c-.78.78-.78 2.05 0 2.83L4 21.41c.39.39.9.59 1.41.59.51 0 1.02-.2 1.41-.59l7.78-7.78 2.81-2.81c.8-.78.8-2.07 0-2.86zM5.41 20L4 18.59l7.72-7.72 1.47 1.35L5.41 20z\"/>\n",
              "  </svg>\n",
              "      </button>\n",
              "      \n",
              "  <style>\n",
              "    .colab-df-container {\n",
              "      display:flex;\n",
              "      flex-wrap:wrap;\n",
              "      gap: 12px;\n",
              "    }\n",
              "\n",
              "    .colab-df-convert {\n",
              "      background-color: #E8F0FE;\n",
              "      border: none;\n",
              "      border-radius: 50%;\n",
              "      cursor: pointer;\n",
              "      display: none;\n",
              "      fill: #1967D2;\n",
              "      height: 32px;\n",
              "      padding: 0 0 0 0;\n",
              "      width: 32px;\n",
              "    }\n",
              "\n",
              "    .colab-df-convert:hover {\n",
              "      background-color: #E2EBFA;\n",
              "      box-shadow: 0px 1px 2px rgba(60, 64, 67, 0.3), 0px 1px 3px 1px rgba(60, 64, 67, 0.15);\n",
              "      fill: #174EA6;\n",
              "    }\n",
              "\n",
              "    [theme=dark] .colab-df-convert {\n",
              "      background-color: #3B4455;\n",
              "      fill: #D2E3FC;\n",
              "    }\n",
              "\n",
              "    [theme=dark] .colab-df-convert:hover {\n",
              "      background-color: #434B5C;\n",
              "      box-shadow: 0px 1px 3px 1px rgba(0, 0, 0, 0.15);\n",
              "      filter: drop-shadow(0px 1px 2px rgba(0, 0, 0, 0.3));\n",
              "      fill: #FFFFFF;\n",
              "    }\n",
              "  </style>\n",
              "\n",
              "      <script>\n",
              "        const buttonEl =\n",
              "          document.querySelector('#df-714403f1-c54b-4815-a023-a8d622d5b8f5 button.colab-df-convert');\n",
              "        buttonEl.style.display =\n",
              "          google.colab.kernel.accessAllowed ? 'block' : 'none';\n",
              "\n",
              "        async function convertToInteractive(key) {\n",
              "          const element = document.querySelector('#df-714403f1-c54b-4815-a023-a8d622d5b8f5');\n",
              "          const dataTable =\n",
              "            await google.colab.kernel.invokeFunction('convertToInteractive',\n",
              "                                                     [key], {});\n",
              "          if (!dataTable) return;\n",
              "\n",
              "          const docLinkHtml = 'Like what you see? Visit the ' +\n",
              "            '<a target=\"_blank\" href=https://colab.research.google.com/notebooks/data_table.ipynb>data table notebook</a>'\n",
              "            + ' to learn more about interactive tables.';\n",
              "          element.innerHTML = '';\n",
              "          dataTable['output_type'] = 'display_data';\n",
              "          await google.colab.output.renderOutput(dataTable, element);\n",
              "          const docLink = document.createElement('div');\n",
              "          docLink.innerHTML = docLinkHtml;\n",
              "          element.appendChild(docLink);\n",
              "        }\n",
              "      </script>\n",
              "    </div>\n",
              "  </div>\n",
              "  "
            ]
          },
          "metadata": {},
          "execution_count": 64
        }
      ]
    },
    {
      "cell_type": "markdown",
      "source": [
        "Loop transfers."
      ],
      "metadata": {
        "id": "v-a9vtnW_qBt"
      }
    },
    {
      "cell_type": "code",
      "source": [
        "query = \"\"\"MATCH (p:Player)<-[:OF_PLAYER]-(t:Transfer)\n",
        "MATCH path = (t)-[:NEXT*]->(t2)\n",
        "MATCH (t)-[:FROM_CLUB]->(club)<-[:TO_CLUB]-(t2)\n",
        "WHERE none(t in [t, t2] where t:Loan)\n",
        "WITH p, t.numericFee - t2.numericFee AS profit, [transfer in nodes(path) | [(from)<-[:FROM_CLUB]-(transfer)-[:TO_CLUB]->(to) | from.name + \"->\" + to.name][0]] AS transfers, path\n",
        "RETURN p.name, apoc.number.format(profit), transfers\n",
        "ORDER BY profit DESC\"\"\"\n",
        "\n",
        "df = pd.DataFrame([dict(_) for _ in conn.query(query)])\n",
        "df.head(10)"
      ],
      "metadata": {
        "colab": {
          "base_uri": "https://localhost:8080/",
          "height": 352
        },
        "id": "vzjeMUDCqO6Y",
        "outputId": "6986ccdd-58d0-425a-bc48-ae8aea8d5589"
      },
      "execution_count": 66,
      "outputs": [
        {
          "output_type": "execute_result",
          "data": {
            "text/plain": [
              "                   p.name apoc.number.format(profit)  \\\n",
              "0          Víctor Montaño                  5,130,000   \n",
              "1       Andreas Cornelius                  4,680,000   \n",
              "2  Mehdi Carcela-González                  4,230,000   \n",
              "3              Pedro León                  3,600,000   \n",
              "4             Vágner Love                  3,600,000   \n",
              "5         Igor de Camargo                  3,510,000   \n",
              "6       Christopher Samba                  3,060,000   \n",
              "7              Nuri Sahin                  2,700,000   \n",
              "8              Marco Russ                  2,340,000   \n",
              "9                 Roberto                  2,250,000   \n",
              "\n",
              "                                           transfers  \n",
              "0  [Montpellier->Stade Rennais, Stade Rennais->Mo...  \n",
              "1   [FC Copenhagen->Cardiff, Cardiff->FC Copenhagen]  \n",
              "2     [Standard Liège->Anzhi, Anzhi->Standard Liège]  \n",
              "3   [Getafe CF->Real Madrid, Real Madrid->Getafe CF]  \n",
              "4     [CSKA Moscow->Flamengo, Flamengo->CSKA Moscow]  \n",
              "5  [Standard Liège->Bor. M'gladbach, Bor. M'gladb...  \n",
              "6                           [Anzhi->QPR, QPR->Anzhi]  \n",
              "7  [Bor. Dortmund->Real Madrid, Real Madrid->Live...  \n",
              "8  [E. Frankfurt->VfL Wolfsburg, VfL Wolfsburg->E...  \n",
              "9  [Atlético Madrid->Benfica, Benfica->Real Zarag...  "
            ],
            "text/html": [
              "\n",
              "  <div id=\"df-97216247-9984-497a-ab98-444564cbd129\">\n",
              "    <div class=\"colab-df-container\">\n",
              "      <div>\n",
              "<style scoped>\n",
              "    .dataframe tbody tr th:only-of-type {\n",
              "        vertical-align: middle;\n",
              "    }\n",
              "\n",
              "    .dataframe tbody tr th {\n",
              "        vertical-align: top;\n",
              "    }\n",
              "\n",
              "    .dataframe thead th {\n",
              "        text-align: right;\n",
              "    }\n",
              "</style>\n",
              "<table border=\"1\" class=\"dataframe\">\n",
              "  <thead>\n",
              "    <tr style=\"text-align: right;\">\n",
              "      <th></th>\n",
              "      <th>p.name</th>\n",
              "      <th>apoc.number.format(profit)</th>\n",
              "      <th>transfers</th>\n",
              "    </tr>\n",
              "  </thead>\n",
              "  <tbody>\n",
              "    <tr>\n",
              "      <th>0</th>\n",
              "      <td>Víctor Montaño</td>\n",
              "      <td>5,130,000</td>\n",
              "      <td>[Montpellier-&gt;Stade Rennais, Stade Rennais-&gt;Mo...</td>\n",
              "    </tr>\n",
              "    <tr>\n",
              "      <th>1</th>\n",
              "      <td>Andreas Cornelius</td>\n",
              "      <td>4,680,000</td>\n",
              "      <td>[FC Copenhagen-&gt;Cardiff, Cardiff-&gt;FC Copenhagen]</td>\n",
              "    </tr>\n",
              "    <tr>\n",
              "      <th>2</th>\n",
              "      <td>Mehdi Carcela-González</td>\n",
              "      <td>4,230,000</td>\n",
              "      <td>[Standard Liège-&gt;Anzhi, Anzhi-&gt;Standard Liège]</td>\n",
              "    </tr>\n",
              "    <tr>\n",
              "      <th>3</th>\n",
              "      <td>Pedro León</td>\n",
              "      <td>3,600,000</td>\n",
              "      <td>[Getafe CF-&gt;Real Madrid, Real Madrid-&gt;Getafe CF]</td>\n",
              "    </tr>\n",
              "    <tr>\n",
              "      <th>4</th>\n",
              "      <td>Vágner Love</td>\n",
              "      <td>3,600,000</td>\n",
              "      <td>[CSKA Moscow-&gt;Flamengo, Flamengo-&gt;CSKA Moscow]</td>\n",
              "    </tr>\n",
              "    <tr>\n",
              "      <th>5</th>\n",
              "      <td>Igor de Camargo</td>\n",
              "      <td>3,510,000</td>\n",
              "      <td>[Standard Liège-&gt;Bor. M'gladbach, Bor. M'gladb...</td>\n",
              "    </tr>\n",
              "    <tr>\n",
              "      <th>6</th>\n",
              "      <td>Christopher Samba</td>\n",
              "      <td>3,060,000</td>\n",
              "      <td>[Anzhi-&gt;QPR, QPR-&gt;Anzhi]</td>\n",
              "    </tr>\n",
              "    <tr>\n",
              "      <th>7</th>\n",
              "      <td>Nuri Sahin</td>\n",
              "      <td>2,700,000</td>\n",
              "      <td>[Bor. Dortmund-&gt;Real Madrid, Real Madrid-&gt;Live...</td>\n",
              "    </tr>\n",
              "    <tr>\n",
              "      <th>8</th>\n",
              "      <td>Marco Russ</td>\n",
              "      <td>2,340,000</td>\n",
              "      <td>[E. Frankfurt-&gt;VfL Wolfsburg, VfL Wolfsburg-&gt;E...</td>\n",
              "    </tr>\n",
              "    <tr>\n",
              "      <th>9</th>\n",
              "      <td>Roberto</td>\n",
              "      <td>2,250,000</td>\n",
              "      <td>[Atlético Madrid-&gt;Benfica, Benfica-&gt;Real Zarag...</td>\n",
              "    </tr>\n",
              "  </tbody>\n",
              "</table>\n",
              "</div>\n",
              "      <button class=\"colab-df-convert\" onclick=\"convertToInteractive('df-97216247-9984-497a-ab98-444564cbd129')\"\n",
              "              title=\"Convert this dataframe to an interactive table.\"\n",
              "              style=\"display:none;\">\n",
              "        \n",
              "  <svg xmlns=\"http://www.w3.org/2000/svg\" height=\"24px\"viewBox=\"0 0 24 24\"\n",
              "       width=\"24px\">\n",
              "    <path d=\"M0 0h24v24H0V0z\" fill=\"none\"/>\n",
              "    <path d=\"M18.56 5.44l.94 2.06.94-2.06 2.06-.94-2.06-.94-.94-2.06-.94 2.06-2.06.94zm-11 1L8.5 8.5l.94-2.06 2.06-.94-2.06-.94L8.5 2.5l-.94 2.06-2.06.94zm10 10l.94 2.06.94-2.06 2.06-.94-2.06-.94-.94-2.06-.94 2.06-2.06.94z\"/><path d=\"M17.41 7.96l-1.37-1.37c-.4-.4-.92-.59-1.43-.59-.52 0-1.04.2-1.43.59L10.3 9.45l-7.72 7.72c-.78.78-.78 2.05 0 2.83L4 21.41c.39.39.9.59 1.41.59.51 0 1.02-.2 1.41-.59l7.78-7.78 2.81-2.81c.8-.78.8-2.07 0-2.86zM5.41 20L4 18.59l7.72-7.72 1.47 1.35L5.41 20z\"/>\n",
              "  </svg>\n",
              "      </button>\n",
              "      \n",
              "  <style>\n",
              "    .colab-df-container {\n",
              "      display:flex;\n",
              "      flex-wrap:wrap;\n",
              "      gap: 12px;\n",
              "    }\n",
              "\n",
              "    .colab-df-convert {\n",
              "      background-color: #E8F0FE;\n",
              "      border: none;\n",
              "      border-radius: 50%;\n",
              "      cursor: pointer;\n",
              "      display: none;\n",
              "      fill: #1967D2;\n",
              "      height: 32px;\n",
              "      padding: 0 0 0 0;\n",
              "      width: 32px;\n",
              "    }\n",
              "\n",
              "    .colab-df-convert:hover {\n",
              "      background-color: #E2EBFA;\n",
              "      box-shadow: 0px 1px 2px rgba(60, 64, 67, 0.3), 0px 1px 3px 1px rgba(60, 64, 67, 0.15);\n",
              "      fill: #174EA6;\n",
              "    }\n",
              "\n",
              "    [theme=dark] .colab-df-convert {\n",
              "      background-color: #3B4455;\n",
              "      fill: #D2E3FC;\n",
              "    }\n",
              "\n",
              "    [theme=dark] .colab-df-convert:hover {\n",
              "      background-color: #434B5C;\n",
              "      box-shadow: 0px 1px 3px 1px rgba(0, 0, 0, 0.15);\n",
              "      filter: drop-shadow(0px 1px 2px rgba(0, 0, 0, 0.3));\n",
              "      fill: #FFFFFF;\n",
              "    }\n",
              "  </style>\n",
              "\n",
              "      <script>\n",
              "        const buttonEl =\n",
              "          document.querySelector('#df-97216247-9984-497a-ab98-444564cbd129 button.colab-df-convert');\n",
              "        buttonEl.style.display =\n",
              "          google.colab.kernel.accessAllowed ? 'block' : 'none';\n",
              "\n",
              "        async function convertToInteractive(key) {\n",
              "          const element = document.querySelector('#df-97216247-9984-497a-ab98-444564cbd129');\n",
              "          const dataTable =\n",
              "            await google.colab.kernel.invokeFunction('convertToInteractive',\n",
              "                                                     [key], {});\n",
              "          if (!dataTable) return;\n",
              "\n",
              "          const docLinkHtml = 'Like what you see? Visit the ' +\n",
              "            '<a target=\"_blank\" href=https://colab.research.google.com/notebooks/data_table.ipynb>data table notebook</a>'\n",
              "            + ' to learn more about interactive tables.';\n",
              "          element.innerHTML = '';\n",
              "          dataTable['output_type'] = 'display_data';\n",
              "          await google.colab.output.renderOutput(dataTable, element);\n",
              "          const docLink = document.createElement('div');\n",
              "          docLink.innerHTML = docLinkHtml;\n",
              "          element.appendChild(docLink);\n",
              "        }\n",
              "      </script>\n",
              "    </div>\n",
              "  </div>\n",
              "  "
            ]
          },
          "metadata": {},
          "execution_count": 66
        }
      ]
    },
    {
      "cell_type": "markdown",
      "source": [
        "Even relationships between clubs can be created."
      ],
      "metadata": {
        "id": "nnYBxZjxsa8_"
      }
    }
  ]
}